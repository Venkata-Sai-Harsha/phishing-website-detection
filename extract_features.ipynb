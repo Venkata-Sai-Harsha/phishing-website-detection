{
  "cells": [
    {
      "cell_type": "code",
      "execution_count": null,
      "metadata": {
        "id": "ALQIBXGQDGg1"
      },
      "outputs": [],
      "source": [
        "import pandas as pd\n",
        "import re\n",
        "from urllib.parse import urlparse\n",
        "from googlesearch import search\n",
        "from urllib.parse import urlparse\n",
        "from tld import get_tld\n",
        "import os.path\n",
        "import socket\n",
        "import requests\n",
        "import time"
      ]
    },
    {
      "cell_type": "code",
      "execution_count": null,
      "metadata": {
        "id": "fmYog6xiDGg3"
      },
      "outputs": [],
      "source": [
        "df = pd.read_csv(\"Phishing_dataset.csv\")"
      ]
    },
    {
      "cell_type": "code",
      "source": [
        "df.shape"
      ],
      "metadata": {
        "colab": {
          "base_uri": "https://localhost:8080/"
        },
        "id": "L_GpzYhFDqAj",
        "outputId": "c6fa6dc3-6db1-420e-d14a-751a8124023e"
      },
      "execution_count": null,
      "outputs": [
        {
          "output_type": "execute_result",
          "data": {
            "text/plain": [
              "(20000, 2)"
            ]
          },
          "metadata": {},
          "execution_count": 5
        }
      ]
    },
    {
      "cell_type": "code",
      "execution_count": null,
      "metadata": {
        "colab": {
          "base_uri": "https://localhost:8080/",
          "height": 206
        },
        "id": "uB4rkiZtDGg4",
        "outputId": "c62b7de1-4867-47c6-b0f0-7250b7f45c9d"
      },
      "outputs": [
        {
          "output_type": "execute_result",
          "data": {
            "text/plain": [
              "                                                 url label\n",
              "0         http://www.m.servlces.runescape.com-mv.ru/   bad\n",
              "1  https://www.facebook.com/photo?fbid=3037752120...  good\n",
              "2                  https://www.creusot-montceau.org/  good\n",
              "3     http://www.broelio.de/unternehmensphilosophie/  good\n",
              "4  https://www.vetassess.com.au/skills-assessment...  good"
            ],
            "text/html": [
              "\n",
              "  <div id=\"df-8f252270-7045-40bf-a729-dbc8a7a6defa\" class=\"colab-df-container\">\n",
              "    <div>\n",
              "<style scoped>\n",
              "    .dataframe tbody tr th:only-of-type {\n",
              "        vertical-align: middle;\n",
              "    }\n",
              "\n",
              "    .dataframe tbody tr th {\n",
              "        vertical-align: top;\n",
              "    }\n",
              "\n",
              "    .dataframe thead th {\n",
              "        text-align: right;\n",
              "    }\n",
              "</style>\n",
              "<table border=\"1\" class=\"dataframe\">\n",
              "  <thead>\n",
              "    <tr style=\"text-align: right;\">\n",
              "      <th></th>\n",
              "      <th>url</th>\n",
              "      <th>label</th>\n",
              "    </tr>\n",
              "  </thead>\n",
              "  <tbody>\n",
              "    <tr>\n",
              "      <th>0</th>\n",
              "      <td>http://www.m.servlces.runescape.com-mv.ru/</td>\n",
              "      <td>bad</td>\n",
              "    </tr>\n",
              "    <tr>\n",
              "      <th>1</th>\n",
              "      <td>https://www.facebook.com/photo?fbid=3037752120...</td>\n",
              "      <td>good</td>\n",
              "    </tr>\n",
              "    <tr>\n",
              "      <th>2</th>\n",
              "      <td>https://www.creusot-montceau.org/</td>\n",
              "      <td>good</td>\n",
              "    </tr>\n",
              "    <tr>\n",
              "      <th>3</th>\n",
              "      <td>http://www.broelio.de/unternehmensphilosophie/</td>\n",
              "      <td>good</td>\n",
              "    </tr>\n",
              "    <tr>\n",
              "      <th>4</th>\n",
              "      <td>https://www.vetassess.com.au/skills-assessment...</td>\n",
              "      <td>good</td>\n",
              "    </tr>\n",
              "  </tbody>\n",
              "</table>\n",
              "</div>\n",
              "    <div class=\"colab-df-buttons\">\n",
              "\n",
              "  <div class=\"colab-df-container\">\n",
              "    <button class=\"colab-df-convert\" onclick=\"convertToInteractive('df-8f252270-7045-40bf-a729-dbc8a7a6defa')\"\n",
              "            title=\"Convert this dataframe to an interactive table.\"\n",
              "            style=\"display:none;\">\n",
              "\n",
              "  <svg xmlns=\"http://www.w3.org/2000/svg\" height=\"24px\" viewBox=\"0 -960 960 960\">\n",
              "    <path d=\"M120-120v-720h720v720H120Zm60-500h600v-160H180v160Zm220 220h160v-160H400v160Zm0 220h160v-160H400v160ZM180-400h160v-160H180v160Zm440 0h160v-160H620v160ZM180-180h160v-160H180v160Zm440 0h160v-160H620v160Z\"/>\n",
              "  </svg>\n",
              "    </button>\n",
              "\n",
              "  <style>\n",
              "    .colab-df-container {\n",
              "      display:flex;\n",
              "      gap: 12px;\n",
              "    }\n",
              "\n",
              "    .colab-df-convert {\n",
              "      background-color: #E8F0FE;\n",
              "      border: none;\n",
              "      border-radius: 50%;\n",
              "      cursor: pointer;\n",
              "      display: none;\n",
              "      fill: #1967D2;\n",
              "      height: 32px;\n",
              "      padding: 0 0 0 0;\n",
              "      width: 32px;\n",
              "    }\n",
              "\n",
              "    .colab-df-convert:hover {\n",
              "      background-color: #E2EBFA;\n",
              "      box-shadow: 0px 1px 2px rgba(60, 64, 67, 0.3), 0px 1px 3px 1px rgba(60, 64, 67, 0.15);\n",
              "      fill: #174EA6;\n",
              "    }\n",
              "\n",
              "    .colab-df-buttons div {\n",
              "      margin-bottom: 4px;\n",
              "    }\n",
              "\n",
              "    [theme=dark] .colab-df-convert {\n",
              "      background-color: #3B4455;\n",
              "      fill: #D2E3FC;\n",
              "    }\n",
              "\n",
              "    [theme=dark] .colab-df-convert:hover {\n",
              "      background-color: #434B5C;\n",
              "      box-shadow: 0px 1px 3px 1px rgba(0, 0, 0, 0.15);\n",
              "      filter: drop-shadow(0px 1px 2px rgba(0, 0, 0, 0.3));\n",
              "      fill: #FFFFFF;\n",
              "    }\n",
              "  </style>\n",
              "\n",
              "    <script>\n",
              "      const buttonEl =\n",
              "        document.querySelector('#df-8f252270-7045-40bf-a729-dbc8a7a6defa button.colab-df-convert');\n",
              "      buttonEl.style.display =\n",
              "        google.colab.kernel.accessAllowed ? 'block' : 'none';\n",
              "\n",
              "      async function convertToInteractive(key) {\n",
              "        const element = document.querySelector('#df-8f252270-7045-40bf-a729-dbc8a7a6defa');\n",
              "        const dataTable =\n",
              "          await google.colab.kernel.invokeFunction('convertToInteractive',\n",
              "                                                    [key], {});\n",
              "        if (!dataTable) return;\n",
              "\n",
              "        const docLinkHtml = 'Like what you see? Visit the ' +\n",
              "          '<a target=\"_blank\" href=https://colab.research.google.com/notebooks/data_table.ipynb>data table notebook</a>'\n",
              "          + ' to learn more about interactive tables.';\n",
              "        element.innerHTML = '';\n",
              "        dataTable['output_type'] = 'display_data';\n",
              "        await google.colab.output.renderOutput(dataTable, element);\n",
              "        const docLink = document.createElement('div');\n",
              "        docLink.innerHTML = docLinkHtml;\n",
              "        element.appendChild(docLink);\n",
              "      }\n",
              "    </script>\n",
              "  </div>\n",
              "\n",
              "\n",
              "<div id=\"df-4b56cf98-f2be-4769-9c91-513b911c7c5f\">\n",
              "  <button class=\"colab-df-quickchart\" onclick=\"quickchart('df-4b56cf98-f2be-4769-9c91-513b911c7c5f')\"\n",
              "            title=\"Suggest charts\"\n",
              "            style=\"display:none;\">\n",
              "\n",
              "<svg xmlns=\"http://www.w3.org/2000/svg\" height=\"24px\"viewBox=\"0 0 24 24\"\n",
              "     width=\"24px\">\n",
              "    <g>\n",
              "        <path d=\"M19 3H5c-1.1 0-2 .9-2 2v14c0 1.1.9 2 2 2h14c1.1 0 2-.9 2-2V5c0-1.1-.9-2-2-2zM9 17H7v-7h2v7zm4 0h-2V7h2v10zm4 0h-2v-4h2v4z\"/>\n",
              "    </g>\n",
              "</svg>\n",
              "  </button>\n",
              "\n",
              "<style>\n",
              "  .colab-df-quickchart {\n",
              "      --bg-color: #E8F0FE;\n",
              "      --fill-color: #1967D2;\n",
              "      --hover-bg-color: #E2EBFA;\n",
              "      --hover-fill-color: #174EA6;\n",
              "      --disabled-fill-color: #AAA;\n",
              "      --disabled-bg-color: #DDD;\n",
              "  }\n",
              "\n",
              "  [theme=dark] .colab-df-quickchart {\n",
              "      --bg-color: #3B4455;\n",
              "      --fill-color: #D2E3FC;\n",
              "      --hover-bg-color: #434B5C;\n",
              "      --hover-fill-color: #FFFFFF;\n",
              "      --disabled-bg-color: #3B4455;\n",
              "      --disabled-fill-color: #666;\n",
              "  }\n",
              "\n",
              "  .colab-df-quickchart {\n",
              "    background-color: var(--bg-color);\n",
              "    border: none;\n",
              "    border-radius: 50%;\n",
              "    cursor: pointer;\n",
              "    display: none;\n",
              "    fill: var(--fill-color);\n",
              "    height: 32px;\n",
              "    padding: 0;\n",
              "    width: 32px;\n",
              "  }\n",
              "\n",
              "  .colab-df-quickchart:hover {\n",
              "    background-color: var(--hover-bg-color);\n",
              "    box-shadow: 0 1px 2px rgba(60, 64, 67, 0.3), 0 1px 3px 1px rgba(60, 64, 67, 0.15);\n",
              "    fill: var(--button-hover-fill-color);\n",
              "  }\n",
              "\n",
              "  .colab-df-quickchart-complete:disabled,\n",
              "  .colab-df-quickchart-complete:disabled:hover {\n",
              "    background-color: var(--disabled-bg-color);\n",
              "    fill: var(--disabled-fill-color);\n",
              "    box-shadow: none;\n",
              "  }\n",
              "\n",
              "  .colab-df-spinner {\n",
              "    border: 2px solid var(--fill-color);\n",
              "    border-color: transparent;\n",
              "    border-bottom-color: var(--fill-color);\n",
              "    animation:\n",
              "      spin 1s steps(1) infinite;\n",
              "  }\n",
              "\n",
              "  @keyframes spin {\n",
              "    0% {\n",
              "      border-color: transparent;\n",
              "      border-bottom-color: var(--fill-color);\n",
              "      border-left-color: var(--fill-color);\n",
              "    }\n",
              "    20% {\n",
              "      border-color: transparent;\n",
              "      border-left-color: var(--fill-color);\n",
              "      border-top-color: var(--fill-color);\n",
              "    }\n",
              "    30% {\n",
              "      border-color: transparent;\n",
              "      border-left-color: var(--fill-color);\n",
              "      border-top-color: var(--fill-color);\n",
              "      border-right-color: var(--fill-color);\n",
              "    }\n",
              "    40% {\n",
              "      border-color: transparent;\n",
              "      border-right-color: var(--fill-color);\n",
              "      border-top-color: var(--fill-color);\n",
              "    }\n",
              "    60% {\n",
              "      border-color: transparent;\n",
              "      border-right-color: var(--fill-color);\n",
              "    }\n",
              "    80% {\n",
              "      border-color: transparent;\n",
              "      border-right-color: var(--fill-color);\n",
              "      border-bottom-color: var(--fill-color);\n",
              "    }\n",
              "    90% {\n",
              "      border-color: transparent;\n",
              "      border-bottom-color: var(--fill-color);\n",
              "    }\n",
              "  }\n",
              "</style>\n",
              "\n",
              "  <script>\n",
              "    async function quickchart(key) {\n",
              "      const quickchartButtonEl =\n",
              "        document.querySelector('#' + key + ' button');\n",
              "      quickchartButtonEl.disabled = true;  // To prevent multiple clicks.\n",
              "      quickchartButtonEl.classList.add('colab-df-spinner');\n",
              "      try {\n",
              "        const charts = await google.colab.kernel.invokeFunction(\n",
              "            'suggestCharts', [key], {});\n",
              "      } catch (error) {\n",
              "        console.error('Error during call to suggestCharts:', error);\n",
              "      }\n",
              "      quickchartButtonEl.classList.remove('colab-df-spinner');\n",
              "      quickchartButtonEl.classList.add('colab-df-quickchart-complete');\n",
              "    }\n",
              "    (() => {\n",
              "      let quickchartButtonEl =\n",
              "        document.querySelector('#df-4b56cf98-f2be-4769-9c91-513b911c7c5f button');\n",
              "      quickchartButtonEl.style.display =\n",
              "        google.colab.kernel.accessAllowed ? 'block' : 'none';\n",
              "    })();\n",
              "  </script>\n",
              "</div>\n",
              "\n",
              "    </div>\n",
              "  </div>\n"
            ],
            "application/vnd.google.colaboratory.intrinsic+json": {
              "type": "dataframe",
              "variable_name": "df",
              "summary": "{\n  \"name\": \"df\",\n  \"rows\": 20000,\n  \"fields\": [\n    {\n      \"column\": \"url\",\n      \"properties\": {\n        \"dtype\": \"string\",\n        \"num_unique_values\": 19997,\n        \"samples\": [\n          \"https://www.thegetgo.es/\",\n          \"https://www.gsnetx.org/en/girl_experience/ways-to-participate.html\",\n          \"https://cyberwebhotels.com/web-development.htm\"\n        ],\n        \"semantic_type\": \"\",\n        \"description\": \"\"\n      }\n    },\n    {\n      \"column\": \"label\",\n      \"properties\": {\n        \"dtype\": \"category\",\n        \"num_unique_values\": 2,\n        \"samples\": [\n          \"good\",\n          \"bad\"\n        ],\n        \"semantic_type\": \"\",\n        \"description\": \"\"\n      }\n    }\n  ]\n}"
            }
          },
          "metadata": {},
          "execution_count": 6
        }
      ],
      "source": [
        "df.head()"
      ]
    },
    {
      "cell_type": "code",
      "execution_count": null,
      "metadata": {
        "id": "rQy3bZJYDGg5"
      },
      "outputs": [],
      "source": [
        "# Use of IP or not in domain\n",
        "def having_ip_address(url):\n",
        "    match = re.search(\n",
        "        \"(([01]?\\\\d\\\\d?|2[0-4]\\\\d|25[0-5])\\\\.([01]?\\\\d\\\\d?|2[0-4]\\\\d|25[0-5])\\\\.([01]?\\\\d\\\\d?|2[0-4]\\\\d|25[0-5])\\\\.\"\n",
        "        \"([01]?\\\\d\\\\d?|2[0-4]\\\\d|25[0-5])\\\\/)|\"  # IPv4\n",
        "        \"((0x[0-9a-fA-F]{1,2})\\\\.(0x[0-9a-fA-F]{1,2})\\\\.(0x[0-9a-fA-F]{1,2})\\\\.(0x[0-9a-fA-F]{1,2})\\\\/)\"  # IPv4 in hexadecimal\n",
        "        \"(?:[a-fA-F0-9]{1,4}:){7}[a-fA-F0-9]{1,4}\",\n",
        "        url,\n",
        "    )  # Ipv6\n",
        "    if match:\n",
        "        # print match.group()\n",
        "        return 1\n",
        "    else:\n",
        "        # print 'No matching pattern found'\n",
        "        return 0"
      ]
    },
    {
      "cell_type": "code",
      "execution_count": null,
      "metadata": {
        "id": "OCzuElWyDGg6"
      },
      "outputs": [],
      "source": [
        "df[\"use_of_ip\"] = df[\"url\"].apply(lambda i: having_ip_address(i))"
      ]
    },
    {
      "cell_type": "code",
      "execution_count": null,
      "metadata": {
        "id": "V5vsc7UQDGg6"
      },
      "outputs": [],
      "source": [
        "def abnormal_url(url):\n",
        "    hostname = urlparse(url).hostname\n",
        "    hostname = str(hostname)\n",
        "    match = re.search(hostname, url)\n",
        "    if match:\n",
        "        # print match.group()\n",
        "        return 1\n",
        "    else:\n",
        "        # print 'No matching pattern found'\n",
        "        return 0"
      ]
    },
    {
      "cell_type": "code",
      "execution_count": null,
      "metadata": {
        "id": "URergmrlDGg7"
      },
      "outputs": [],
      "source": [
        "df[\"abnormal_url\"] = df[\"url\"].apply(lambda i: abnormal_url(i))"
      ]
    },
    {
      "cell_type": "code",
      "execution_count": null,
      "metadata": {
        "id": "CEhhA6fTDGg7"
      },
      "outputs": [],
      "source": [
        "def google_index(url):\n",
        "    site = search(url, 5)\n",
        "    return 1 if site else 0"
      ]
    },
    {
      "cell_type": "code",
      "execution_count": null,
      "metadata": {
        "id": "lMTUJhp3DGg7"
      },
      "outputs": [],
      "source": [
        "df[\"google_index\"] = df[\"url\"].apply(lambda i: google_index(i))"
      ]
    },
    {
      "cell_type": "code",
      "execution_count": null,
      "metadata": {
        "id": "lKIBSUawDGg7"
      },
      "outputs": [],
      "source": [
        "def count_dot(url):\n",
        "    count_dot = url.count(\".\")\n",
        "    return count_dot"
      ]
    },
    {
      "cell_type": "code",
      "execution_count": null,
      "metadata": {
        "id": "OvWH6HTHDGg8"
      },
      "outputs": [],
      "source": [
        "df[\"count.\"] = df[\"url\"].apply(lambda i: count_dot(i))"
      ]
    },
    {
      "cell_type": "code",
      "execution_count": null,
      "metadata": {
        "id": "g0kZ519BDGg8"
      },
      "outputs": [],
      "source": [
        "def count_www(url):\n",
        "    url.count(\"www\")\n",
        "    return url.count(\"www\")"
      ]
    },
    {
      "cell_type": "code",
      "execution_count": null,
      "metadata": {
        "id": "R2T17fDUDGg8"
      },
      "outputs": [],
      "source": [
        "df[\"count-www\"] = df[\"url\"].apply(lambda i: count_www(i))"
      ]
    },
    {
      "cell_type": "code",
      "execution_count": null,
      "metadata": {
        "id": "_1ndsXBGDGg8"
      },
      "outputs": [],
      "source": [
        "def count_atrate(url):\n",
        "    return url.count(\"@\")"
      ]
    },
    {
      "cell_type": "code",
      "execution_count": null,
      "metadata": {
        "id": "o_vPLUNuDGg9"
      },
      "outputs": [],
      "source": [
        "df[\"count@\"] = df[\"url\"].apply(lambda i: count_atrate(i))"
      ]
    },
    {
      "cell_type": "code",
      "execution_count": null,
      "metadata": {
        "id": "ruTsx06QDGg9"
      },
      "outputs": [],
      "source": [
        "def no_of_dir(url):\n",
        "    urldir = urlparse(url).path\n",
        "    return urldir.count(\"/\")"
      ]
    },
    {
      "cell_type": "code",
      "execution_count": null,
      "metadata": {
        "id": "8Xe0MytdDGg9"
      },
      "outputs": [],
      "source": [
        "df[\"count_dir\"] = df[\"url\"].apply(lambda i: no_of_dir(i))"
      ]
    },
    {
      "cell_type": "code",
      "execution_count": null,
      "metadata": {
        "id": "m5Q4IAq3DGg9"
      },
      "outputs": [],
      "source": [
        "def no_of_embed(url):\n",
        "    urldir = urlparse(url).path\n",
        "    return urldir.count(\"//\")"
      ]
    },
    {
      "cell_type": "code",
      "execution_count": null,
      "metadata": {
        "id": "0UwQb6nDDGg9"
      },
      "outputs": [],
      "source": [
        "df[\"count_embed_domian\"] = df[\"url\"].apply(lambda i: no_of_embed(i))"
      ]
    },
    {
      "cell_type": "code",
      "execution_count": null,
      "metadata": {
        "id": "6bP7YMUKDGg9"
      },
      "outputs": [],
      "source": [
        "def shortening_service(url):\n",
        "    match = re.search(\n",
        "        \"bit\\.ly|goo\\.gl|shorte\\.st|go2l\\.ink|x\\.co|ow\\.ly|t\\.co|tinyurl|tr\\.im|is\\.gd|cli\\.gs|\"\n",
        "        \"yfrog\\.com|migre\\.me|ff\\.im|tiny\\.cc|url4\\.eu|twit\\.ac|su\\.pr|twurl\\.nl|snipurl\\.com|\"\n",
        "        \"short\\.to|BudURL\\.com|ping\\.fm|post\\.ly|Just\\.as|bkite\\.com|snipr\\.com|fic\\.kr|loopt\\.us|\"\n",
        "        \"doiop\\.com|short\\.ie|kl\\.am|wp\\.me|rubyurl\\.com|om\\.ly|to\\.ly|bit\\.do|t\\.co|lnkd\\.in|\"\n",
        "        \"db\\.tt|qr\\.ae|adf\\.ly|goo\\.gl|bitly\\.com|cur\\.lv|tinyurl\\.com|ow\\.ly|bit\\.ly|ity\\.im|\"\n",
        "        \"q\\.gs|is\\.gd|po\\.st|bc\\.vc|twitthis\\.com|u\\.to|j\\.mp|buzurl\\.com|cutt\\.us|u\\.bb|yourls\\.org|\"\n",
        "        \"x\\.co|prettylinkpro\\.com|scrnch\\.me|filoops\\.info|vzturl\\.com|qr\\.net|1url\\.com|tweez\\.me|v\\.gd|\"\n",
        "        \"tr\\.im|link\\.zip\\.net\",\n",
        "        url,\n",
        "    )\n",
        "    if match:\n",
        "        return 1\n",
        "    else:\n",
        "        return 0"
      ]
    },
    {
      "cell_type": "code",
      "execution_count": null,
      "metadata": {
        "id": "7aPLGHYKDGg9"
      },
      "outputs": [],
      "source": [
        "df[\"short_url\"] = df[\"url\"].apply(lambda i: shortening_service(i))"
      ]
    },
    {
      "cell_type": "code",
      "execution_count": null,
      "metadata": {
        "id": "AUE7ExcQDGg-"
      },
      "outputs": [],
      "source": [
        "def count_https(url):\n",
        "    return url.count(\"https\")"
      ]
    },
    {
      "cell_type": "code",
      "execution_count": null,
      "metadata": {
        "id": "Y4P8LTJnDGg-"
      },
      "outputs": [],
      "source": [
        "df[\"count-https\"] = df[\"url\"].apply(lambda i: count_https(i))"
      ]
    },
    {
      "cell_type": "code",
      "execution_count": null,
      "metadata": {
        "id": "tBoL9rI8DGg-"
      },
      "outputs": [],
      "source": [
        "def count_http(url):\n",
        "    return url.count(\"http\")"
      ]
    },
    {
      "cell_type": "code",
      "execution_count": null,
      "metadata": {
        "id": "AovQ-hnCDGg_"
      },
      "outputs": [],
      "source": [
        "df[\"count-http\"] = df[\"url\"].apply(lambda i: count_http(i))"
      ]
    },
    {
      "cell_type": "code",
      "execution_count": null,
      "metadata": {
        "id": "gjoyB8n7DGg_"
      },
      "outputs": [],
      "source": [
        "def count_per(url):\n",
        "    return url.count(\"%\")"
      ]
    },
    {
      "cell_type": "code",
      "execution_count": null,
      "metadata": {
        "id": "KdCFFoh6DGg_"
      },
      "outputs": [],
      "source": [
        "df[\"count%\"] = df[\"url\"].apply(lambda i: count_per(i))"
      ]
    },
    {
      "cell_type": "code",
      "execution_count": null,
      "metadata": {
        "id": "SjJ1kvXxDGg_"
      },
      "outputs": [],
      "source": [
        "def count_ques(url):\n",
        "    return url.count(\"?\")"
      ]
    },
    {
      "cell_type": "code",
      "execution_count": null,
      "metadata": {
        "id": "uOdfhpaQDGg_"
      },
      "outputs": [],
      "source": [
        "df[\"count?\"] = df[\"url\"].apply(lambda i: count_ques(i))"
      ]
    },
    {
      "cell_type": "code",
      "execution_count": null,
      "metadata": {
        "id": "4og45NXsDGg_"
      },
      "outputs": [],
      "source": [
        "def count_hyphen(url):\n",
        "    return url.count(\"-\")"
      ]
    },
    {
      "cell_type": "code",
      "execution_count": null,
      "metadata": {
        "id": "VBygggwNDGg_"
      },
      "outputs": [],
      "source": [
        "df[\"count-\"] = df[\"url\"].apply(lambda i: count_hyphen(i))"
      ]
    },
    {
      "cell_type": "code",
      "execution_count": null,
      "metadata": {
        "id": "dCJXDBhqDGhA"
      },
      "outputs": [],
      "source": [
        "def count_equal(url):\n",
        "    return url.count(\"=\")"
      ]
    },
    {
      "cell_type": "code",
      "execution_count": null,
      "metadata": {
        "id": "2IHXwdqbDGhA"
      },
      "outputs": [],
      "source": [
        "df[\"count=\"] = df[\"url\"].apply(lambda i: count_equal(i))"
      ]
    },
    {
      "cell_type": "code",
      "execution_count": null,
      "metadata": {
        "id": "uAfCmr6XDGhA"
      },
      "outputs": [],
      "source": [
        "def url_length(url):\n",
        "    return len(str(url))"
      ]
    },
    {
      "cell_type": "code",
      "execution_count": null,
      "metadata": {
        "id": "KCsxVm_9DGhA"
      },
      "outputs": [],
      "source": [
        "# Length of URL\n",
        "df[\"url_length\"] = df[\"url\"].apply(lambda i: url_length(i))"
      ]
    },
    {
      "cell_type": "code",
      "execution_count": null,
      "metadata": {
        "id": "0Qzs3J7wDGhA"
      },
      "outputs": [],
      "source": [
        "# Hostname Length\n",
        "def primary_domain_length(url):\n",
        "    return len(urlparse(url).netloc)"
      ]
    },
    {
      "cell_type": "code",
      "execution_count": null,
      "metadata": {
        "id": "d8plmKIfDGhA"
      },
      "outputs": [],
      "source": [
        "df[\"primary_domain_length\"] = df[\"url\"].apply(lambda i: primary_domain_length(i))"
      ]
    },
    {
      "cell_type": "code",
      "execution_count": null,
      "metadata": {
        "id": "Cj6z5hzyDGhB"
      },
      "outputs": [],
      "source": [
        "def suspicious_words(url):\n",
        "    match = re.search(\n",
        "        \"PayPal|login|signin|bank|account|update|free|lucky|service|bonus|ebayisapi|webscr\",\n",
        "        url,\n",
        "    )\n",
        "    if match:\n",
        "        return 1\n",
        "    else:\n",
        "        return 0"
      ]
    },
    {
      "cell_type": "code",
      "execution_count": null,
      "metadata": {
        "id": "X1A-nbnaDGhB"
      },
      "outputs": [],
      "source": [
        "df[\"sus_url\"] = df[\"url\"].apply(lambda i: suspicious_words(i))"
      ]
    },
    {
      "cell_type": "code",
      "execution_count": null,
      "metadata": {
        "id": "DgHawfQ7DGhB"
      },
      "outputs": [],
      "source": [
        "def digit_count(url):\n",
        "    digits = 0\n",
        "    for i in url:\n",
        "        if i.isnumeric():\n",
        "            digits = digits + 1\n",
        "    return digits"
      ]
    },
    {
      "cell_type": "code",
      "execution_count": null,
      "metadata": {
        "id": "8o4-21j0DGhB"
      },
      "outputs": [],
      "source": [
        "df[\"count-digits\"] = df[\"url\"].apply(lambda i: digit_count(i))"
      ]
    },
    {
      "cell_type": "code",
      "execution_count": null,
      "metadata": {
        "id": "CjVUyX-ADGhB"
      },
      "outputs": [],
      "source": [
        "def letter_count(url):\n",
        "    letters = 0\n",
        "    for i in url:\n",
        "        if i.isalpha():\n",
        "            letters = letters + 1\n",
        "    return letters"
      ]
    },
    {
      "cell_type": "code",
      "execution_count": null,
      "metadata": {
        "id": "waL8LQuvDGhC"
      },
      "outputs": [],
      "source": [
        "df[\"count-letters\"] = df[\"url\"].apply(lambda i: letter_count(i))"
      ]
    },
    {
      "cell_type": "code",
      "execution_count": null,
      "metadata": {
        "id": "o2Mxh2uCDGhC"
      },
      "outputs": [],
      "source": [
        "# First Directory Length\n",
        "def fd_length(url):\n",
        "    urlpath = urlparse(url).path\n",
        "    try:\n",
        "        return len(urlpath.split(\"/\")[1])\n",
        "    except:\n",
        "        return 0"
      ]
    },
    {
      "cell_type": "code",
      "execution_count": null,
      "metadata": {
        "id": "BAEBC9AADGhC"
      },
      "outputs": [],
      "source": [
        "df[\"fd_length\"] = df[\"url\"].apply(lambda i: fd_length(i))\n",
        "# Length of Top Level Domain\n",
        "df[\"tld\"] = df[\"url\"].apply(lambda i: get_tld(i, fail_silently=True))"
      ]
    },
    {
      "cell_type": "code",
      "execution_count": null,
      "metadata": {
        "id": "Gbx28azqDGhC"
      },
      "outputs": [],
      "source": [
        "def tld_length(tld):\n",
        "    try:\n",
        "        return len(tld)\n",
        "    except:\n",
        "        return -1"
      ]
    },
    {
      "cell_type": "code",
      "execution_count": null,
      "metadata": {
        "id": "qx-6joQ0DGhC"
      },
      "outputs": [],
      "source": [
        "df[\"tld_length\"] = df[\"tld\"].apply(lambda i: tld_length(i))"
      ]
    },
    {
      "cell_type": "code",
      "source": [
        "tld_counts = df['tld'].value_counts()\n",
        "tld_ranking = {tld: rank + 1 for rank, tld in enumerate(tld_counts.index)}"
      ],
      "metadata": {
        "id": "Vxv20oxvKJrh"
      },
      "execution_count": null,
      "outputs": []
    },
    {
      "cell_type": "code",
      "source": [
        "# Convert the TLD column to rankings using the mapping\n",
        "df['TLD_Rank'] = df['tld'].map(tld_ranking)"
      ],
      "metadata": {
        "id": "3JI0wGOwKLg9"
      },
      "execution_count": null,
      "outputs": []
    },
    {
      "cell_type": "code",
      "source": [
        "import re\n",
        "\n",
        "def has_suspicious_patterns(url):\n",
        "    # Common patterns to look for\n",
        "    suspicious_patterns = [\n",
        "        r'https?://[0-9]+\\.[0-9]+\\.[0-9]+\\.[0-9]+',  # IP addresses instead of domain names\n",
        "        r'https?://[^/]*@',  # Presence of \"@\" symbol in the URL (can be used for phishing)\n",
        "        r'%[0-9a-fA-F]{2}',  # URL encoding (e.g., \"%20\" for space) which might obfuscate the link\n",
        "        r'\\.(zip|exe|iso|rar|tar)$',  # Dangerous file extensions often used for malware\n",
        "        r'https?://(?:www\\.)?([a-zA-Z0-9\\-]+\\.)+[a-zA-Z]{2,}'  # Domain name check\n",
        "    ]\n",
        "\n",
        "    # Check for suspicious patterns in the URL\n",
        "    for pattern in suspicious_patterns:\n",
        "        if re.search(pattern, url):\n",
        "            return True\n",
        "\n",
        "    return False"
      ],
      "metadata": {
        "id": "azZjUUuCG0gO"
      },
      "execution_count": null,
      "outputs": []
    },
    {
      "cell_type": "code",
      "source": [
        "df['has_suspicious_patterns'] = df['url'].apply(has_suspicious_patterns)"
      ],
      "metadata": {
        "id": "PkTsAN5OG0A-"
      },
      "execution_count": null,
      "outputs": []
    },
    {
      "cell_type": "code",
      "source": [
        "def get_ip_address(url):\n",
        "    try:\n",
        "        hostname = url.replace(\"http://\", \"\").replace(\"https://\", \"\").split('/')[0]\n",
        "        ip_address = socket.gethostbyname(hostname)\n",
        "        return ip_address\n",
        "    except Exception as e:\n",
        "        return None"
      ],
      "metadata": {
        "id": "L0pY7uvwE7uw"
      },
      "execution_count": null,
      "outputs": []
    },
    {
      "cell_type": "code",
      "source": [
        "df['IP Address'] = df['url'].apply(get_ip_address)"
      ],
      "metadata": {
        "id": "qkU0NMWiLT4P"
      },
      "execution_count": null,
      "outputs": []
    },
    {
      "cell_type": "code",
      "source": [
        "df['Has_IP_Address'] = df['IP Address'].notnull().astype(int)"
      ],
      "metadata": {
        "id": "T5QPpt2NGrcl"
      },
      "execution_count": null,
      "outputs": []
    },
    {
      "cell_type": "code",
      "source": [
        "df['ISP'] = None\n",
        "df['Country'] = None\n",
        "df['Region'] = None\n",
        "df['Hostname'] = None\n",
        "df['Location'] = None"
      ],
      "metadata": {
        "id": "dbjRfzNhNQaT"
      },
      "execution_count": null,
      "outputs": []
    },
    {
      "cell_type": "code",
      "source": [
        "API_KEY = 'cd5bf2683965ef'  # If you have an API key, set it here\n",
        "\n",
        "# Function to fetch network details for a given IP address\n",
        "def fetch_network_details(ip_address):\n",
        "    try:\n",
        "        headers = {'Authorization': f'Bearer {API_KEY}'} if API_KEY else {}\n",
        "        response = requests.get(f\"https://ipinfo.io/{ip_address}/json\", headers=headers)\n",
        "        if response.status_code == 200:\n",
        "            data = response.json()\n",
        "            organization = data.get('org')\n",
        "            hostname = data.get('hostname')\n",
        "            location = data.get('loc')\n",
        "            if location:\n",
        "                latitude, longitude = location.split(',')\n",
        "            else:\n",
        "                latitude, longitude = None, None\n",
        "\n",
        "            return data.get('asn'), organization, data.get('country'), data.get('region'), hostname, latitude, longitude\n",
        "        else:\n",
        "            print(f\"Error: Received status code {response.status_code} for IP {ip_address}\")\n",
        "            return None, None, None, None, None, None, None\n",
        "    except Exception as e:\n",
        "        print(f\"Error fetching data for IP {ip_address}: {e}\")\n",
        "        return None, None, None, None, None, None, None"
      ],
      "metadata": {
        "id": "4dz1ftA0M4v6"
      },
      "execution_count": null,
      "outputs": []
    },
    {
      "cell_type": "code",
      "source": [
        "for index, row in df.iterrows():\n",
        "    ip = row['IP Address']\n",
        "    if pd.notna(ip):\n",
        "        asn, organization, country, region, hostname, latitude, longitude = fetch_network_details(ip)\n",
        "        df.at[index, 'ISP'] = organization  # Assuming ISP is actually the organization\n",
        "        df.at[index, 'Country'] = country\n",
        "        df.at[index, 'Region'] = region\n",
        "        df.at[index, 'Hostname'] = hostname\n",
        "        df.at[index, 'Location'] = f\"{latitude}, {longitude}\"\n",
        "        print(f\"Successfully fetched data for IP {ip}: ASN={asn}, Organization={organization}, Country={country}, Region={region}, Hostname={hostname}, Location={latitude}, {longitude}\")\n",
        "    else:\n",
        "        print(f\"URL does not have a valid IP address and is likely inactive.\")\n",
        "    time.sleep(1)"
      ],
      "metadata": {
        "id": "Oa4kBQFhNkVI"
      },
      "execution_count": null,
      "outputs": []
    },
    {
      "cell_type": "code",
      "source": [
        "def url_length(url):\n",
        "    return len(str(url))"
      ],
      "metadata": {
        "id": "sXHslPmUGtSj"
      },
      "execution_count": null,
      "outputs": []
    },
    {
      "cell_type": "code",
      "source": [
        "df[\"hostname_length\"] = df[\"Hostname\"].apply(lambda i: url_length(i))"
      ],
      "metadata": {
        "id": "6EU4SkF8HWf8"
      },
      "execution_count": null,
      "outputs": []
    },
    {
      "cell_type": "code",
      "source": [
        "isp_counts = df['ISP'].value_counts()\n",
        "isp_ranking = {isp: rank + 1 for rank, isp in enumerate(isp_counts.index)}"
      ],
      "metadata": {
        "id": "lFKmFGPkHbYf"
      },
      "execution_count": null,
      "outputs": []
    },
    {
      "cell_type": "code",
      "source": [
        "# Convert the ISP column to rankings using the mapping\n",
        "df['ISP_Rank'] = df['ISP'].map(isp_ranking)"
      ],
      "metadata": {
        "id": "DQIPmNQiOEsn"
      },
      "execution_count": null,
      "outputs": []
    },
    {
      "cell_type": "code",
      "source": [
        "country_counts = df['Country'].value_counts()\n",
        "country_ranking = {country: rank + 1 for rank, country in enumerate(country_counts.index)}"
      ],
      "metadata": {
        "id": "4s_gMzZrOGY4"
      },
      "execution_count": null,
      "outputs": []
    },
    {
      "cell_type": "code",
      "source": [
        "df['Country_Rank'] = df['Country'].map(country_ranking)"
      ],
      "metadata": {
        "id": "6fe7mgW3ONbF"
      },
      "execution_count": null,
      "outputs": []
    },
    {
      "cell_type": "code",
      "source": [
        "region_counts = df['Region'].value_counts()\n",
        "region_ranking = {region: rank + 1 for rank, region in enumerate(region_counts.index)}"
      ],
      "metadata": {
        "id": "eAvKDIo8OPFD"
      },
      "execution_count": null,
      "outputs": []
    },
    {
      "cell_type": "code",
      "source": [
        "df['Region_Rank'] = df['Region'].map(region_ranking)"
      ],
      "metadata": {
        "id": "O8FEA25pORyd"
      },
      "execution_count": null,
      "outputs": []
    },
    {
      "cell_type": "code",
      "source": [
        "df.head()"
      ],
      "metadata": {
        "colab": {
          "base_uri": "https://localhost:8080/",
          "height": 429
        },
        "id": "xcs_FA83PC66",
        "outputId": "074241fc-8a07-40e0-c4dc-266c69e74611"
      },
      "execution_count": null,
      "outputs": [
        {
          "output_type": "execute_result",
          "data": {
            "text/plain": [
              "                                                 url  label  use_of_ip  \\\n",
              "0         http://www.m.servlces.runescape.com-mv.ru/      1          0   \n",
              "1  https://www.facebook.com/photo?fbid=3037752120...      0          0   \n",
              "2                  https://www.creusot-montceau.org/      0          0   \n",
              "3     http://www.broelio.de/unternehmensphilosophie/      0          0   \n",
              "4  https://www.vetassess.com.au/skills-assessment...      0          0   \n",
              "\n",
              "   abnormal_url  google_index  count.  count-www  count@  count_dir  \\\n",
              "0             1             1       5          1       0          1   \n",
              "1             1             1       3          1       0          1   \n",
              "2             1             1       2          1       0          1   \n",
              "3             1             1       2          1       0          2   \n",
              "4             1             1       3          1       0          2   \n",
              "\n",
              "   count_embed_domian  ...  subdomains_count                       ISP  \\\n",
              "0                   0  ...                 4                       NaN   \n",
              "1                   0  ...                 1    AS32934 Facebook, Inc.   \n",
              "2                   0  ...                 0           AS16276 OVH SAS   \n",
              "3                   0  ...                 1  AS21499 Host Europe GmbH   \n",
              "4                   0  ...                 1      AS54113 Fastly, Inc.   \n",
              "\n",
              "   Country           Region                                 Hostname  \\\n",
              "0      NaN              NaN                                      NaN   \n",
              "1       IN       Tamil Nadu  edge-star-mini-shv-01-tir3.facebook.com   \n",
              "2       FR  Hauts-de-France               cluster031.hosting.ovh.net   \n",
              "3       FR        Grand Est       65.59.205.92.host.secureserver.net   \n",
              "4       US       California                                      NaN   \n",
              "\n",
              "             Location  hostname_length  ISP_Rank  Country_Rank  Region_Rank  \n",
              "0                 NaN                3       NaN           NaN          NaN  \n",
              "1    13.0878, 80.2785               39       7.0           2.0          2.0  \n",
              "2     50.6942, 3.1746               26      10.0           5.0         18.0  \n",
              "3     48.5839, 7.7455               34      51.0           5.0         40.0  \n",
              "4  37.7621, -122.3971                3       6.0           1.0          1.0  \n",
              "\n",
              "[5 rows x 39 columns]"
            ],
            "text/html": [
              "\n",
              "  <div id=\"df-4e9c5a01-46f6-4cf8-9863-c19e3b8bf032\" class=\"colab-df-container\">\n",
              "    <div>\n",
              "<style scoped>\n",
              "    .dataframe tbody tr th:only-of-type {\n",
              "        vertical-align: middle;\n",
              "    }\n",
              "\n",
              "    .dataframe tbody tr th {\n",
              "        vertical-align: top;\n",
              "    }\n",
              "\n",
              "    .dataframe thead th {\n",
              "        text-align: right;\n",
              "    }\n",
              "</style>\n",
              "<table border=\"1\" class=\"dataframe\">\n",
              "  <thead>\n",
              "    <tr style=\"text-align: right;\">\n",
              "      <th></th>\n",
              "      <th>url</th>\n",
              "      <th>label</th>\n",
              "      <th>use_of_ip</th>\n",
              "      <th>abnormal_url</th>\n",
              "      <th>google_index</th>\n",
              "      <th>count.</th>\n",
              "      <th>count-www</th>\n",
              "      <th>count@</th>\n",
              "      <th>count_dir</th>\n",
              "      <th>count_embed_domian</th>\n",
              "      <th>...</th>\n",
              "      <th>subdomains_count</th>\n",
              "      <th>ISP</th>\n",
              "      <th>Country</th>\n",
              "      <th>Region</th>\n",
              "      <th>Hostname</th>\n",
              "      <th>Location</th>\n",
              "      <th>hostname_length</th>\n",
              "      <th>ISP_Rank</th>\n",
              "      <th>Country_Rank</th>\n",
              "      <th>Region_Rank</th>\n",
              "    </tr>\n",
              "  </thead>\n",
              "  <tbody>\n",
              "    <tr>\n",
              "      <th>0</th>\n",
              "      <td>http://www.m.servlces.runescape.com-mv.ru/</td>\n",
              "      <td>1</td>\n",
              "      <td>0</td>\n",
              "      <td>1</td>\n",
              "      <td>1</td>\n",
              "      <td>5</td>\n",
              "      <td>1</td>\n",
              "      <td>0</td>\n",
              "      <td>1</td>\n",
              "      <td>0</td>\n",
              "      <td>...</td>\n",
              "      <td>4</td>\n",
              "      <td>NaN</td>\n",
              "      <td>NaN</td>\n",
              "      <td>NaN</td>\n",
              "      <td>NaN</td>\n",
              "      <td>NaN</td>\n",
              "      <td>3</td>\n",
              "      <td>NaN</td>\n",
              "      <td>NaN</td>\n",
              "      <td>NaN</td>\n",
              "    </tr>\n",
              "    <tr>\n",
              "      <th>1</th>\n",
              "      <td>https://www.facebook.com/photo?fbid=3037752120...</td>\n",
              "      <td>0</td>\n",
              "      <td>0</td>\n",
              "      <td>1</td>\n",
              "      <td>1</td>\n",
              "      <td>3</td>\n",
              "      <td>1</td>\n",
              "      <td>0</td>\n",
              "      <td>1</td>\n",
              "      <td>0</td>\n",
              "      <td>...</td>\n",
              "      <td>1</td>\n",
              "      <td>AS32934 Facebook, Inc.</td>\n",
              "      <td>IN</td>\n",
              "      <td>Tamil Nadu</td>\n",
              "      <td>edge-star-mini-shv-01-tir3.facebook.com</td>\n",
              "      <td>13.0878, 80.2785</td>\n",
              "      <td>39</td>\n",
              "      <td>7.0</td>\n",
              "      <td>2.0</td>\n",
              "      <td>2.0</td>\n",
              "    </tr>\n",
              "    <tr>\n",
              "      <th>2</th>\n",
              "      <td>https://www.creusot-montceau.org/</td>\n",
              "      <td>0</td>\n",
              "      <td>0</td>\n",
              "      <td>1</td>\n",
              "      <td>1</td>\n",
              "      <td>2</td>\n",
              "      <td>1</td>\n",
              "      <td>0</td>\n",
              "      <td>1</td>\n",
              "      <td>0</td>\n",
              "      <td>...</td>\n",
              "      <td>0</td>\n",
              "      <td>AS16276 OVH SAS</td>\n",
              "      <td>FR</td>\n",
              "      <td>Hauts-de-France</td>\n",
              "      <td>cluster031.hosting.ovh.net</td>\n",
              "      <td>50.6942, 3.1746</td>\n",
              "      <td>26</td>\n",
              "      <td>10.0</td>\n",
              "      <td>5.0</td>\n",
              "      <td>18.0</td>\n",
              "    </tr>\n",
              "    <tr>\n",
              "      <th>3</th>\n",
              "      <td>http://www.broelio.de/unternehmensphilosophie/</td>\n",
              "      <td>0</td>\n",
              "      <td>0</td>\n",
              "      <td>1</td>\n",
              "      <td>1</td>\n",
              "      <td>2</td>\n",
              "      <td>1</td>\n",
              "      <td>0</td>\n",
              "      <td>2</td>\n",
              "      <td>0</td>\n",
              "      <td>...</td>\n",
              "      <td>1</td>\n",
              "      <td>AS21499 Host Europe GmbH</td>\n",
              "      <td>FR</td>\n",
              "      <td>Grand Est</td>\n",
              "      <td>65.59.205.92.host.secureserver.net</td>\n",
              "      <td>48.5839, 7.7455</td>\n",
              "      <td>34</td>\n",
              "      <td>51.0</td>\n",
              "      <td>5.0</td>\n",
              "      <td>40.0</td>\n",
              "    </tr>\n",
              "    <tr>\n",
              "      <th>4</th>\n",
              "      <td>https://www.vetassess.com.au/skills-assessment...</td>\n",
              "      <td>0</td>\n",
              "      <td>0</td>\n",
              "      <td>1</td>\n",
              "      <td>1</td>\n",
              "      <td>3</td>\n",
              "      <td>1</td>\n",
              "      <td>0</td>\n",
              "      <td>2</td>\n",
              "      <td>0</td>\n",
              "      <td>...</td>\n",
              "      <td>1</td>\n",
              "      <td>AS54113 Fastly, Inc.</td>\n",
              "      <td>US</td>\n",
              "      <td>California</td>\n",
              "      <td>NaN</td>\n",
              "      <td>37.7621, -122.3971</td>\n",
              "      <td>3</td>\n",
              "      <td>6.0</td>\n",
              "      <td>1.0</td>\n",
              "      <td>1.0</td>\n",
              "    </tr>\n",
              "  </tbody>\n",
              "</table>\n",
              "<p>5 rows × 39 columns</p>\n",
              "</div>\n",
              "    <div class=\"colab-df-buttons\">\n",
              "\n",
              "  <div class=\"colab-df-container\">\n",
              "    <button class=\"colab-df-convert\" onclick=\"convertToInteractive('df-4e9c5a01-46f6-4cf8-9863-c19e3b8bf032')\"\n",
              "            title=\"Convert this dataframe to an interactive table.\"\n",
              "            style=\"display:none;\">\n",
              "\n",
              "  <svg xmlns=\"http://www.w3.org/2000/svg\" height=\"24px\" viewBox=\"0 -960 960 960\">\n",
              "    <path d=\"M120-120v-720h720v720H120Zm60-500h600v-160H180v160Zm220 220h160v-160H400v160Zm0 220h160v-160H400v160ZM180-400h160v-160H180v160Zm440 0h160v-160H620v160ZM180-180h160v-160H180v160Zm440 0h160v-160H620v160Z\"/>\n",
              "  </svg>\n",
              "    </button>\n",
              "\n",
              "  <style>\n",
              "    .colab-df-container {\n",
              "      display:flex;\n",
              "      gap: 12px;\n",
              "    }\n",
              "\n",
              "    .colab-df-convert {\n",
              "      background-color: #E8F0FE;\n",
              "      border: none;\n",
              "      border-radius: 50%;\n",
              "      cursor: pointer;\n",
              "      display: none;\n",
              "      fill: #1967D2;\n",
              "      height: 32px;\n",
              "      padding: 0 0 0 0;\n",
              "      width: 32px;\n",
              "    }\n",
              "\n",
              "    .colab-df-convert:hover {\n",
              "      background-color: #E2EBFA;\n",
              "      box-shadow: 0px 1px 2px rgba(60, 64, 67, 0.3), 0px 1px 3px 1px rgba(60, 64, 67, 0.15);\n",
              "      fill: #174EA6;\n",
              "    }\n",
              "\n",
              "    .colab-df-buttons div {\n",
              "      margin-bottom: 4px;\n",
              "    }\n",
              "\n",
              "    [theme=dark] .colab-df-convert {\n",
              "      background-color: #3B4455;\n",
              "      fill: #D2E3FC;\n",
              "    }\n",
              "\n",
              "    [theme=dark] .colab-df-convert:hover {\n",
              "      background-color: #434B5C;\n",
              "      box-shadow: 0px 1px 3px 1px rgba(0, 0, 0, 0.15);\n",
              "      filter: drop-shadow(0px 1px 2px rgba(0, 0, 0, 0.3));\n",
              "      fill: #FFFFFF;\n",
              "    }\n",
              "  </style>\n",
              "\n",
              "    <script>\n",
              "      const buttonEl =\n",
              "        document.querySelector('#df-4e9c5a01-46f6-4cf8-9863-c19e3b8bf032 button.colab-df-convert');\n",
              "      buttonEl.style.display =\n",
              "        google.colab.kernel.accessAllowed ? 'block' : 'none';\n",
              "\n",
              "      async function convertToInteractive(key) {\n",
              "        const element = document.querySelector('#df-4e9c5a01-46f6-4cf8-9863-c19e3b8bf032');\n",
              "        const dataTable =\n",
              "          await google.colab.kernel.invokeFunction('convertToInteractive',\n",
              "                                                    [key], {});\n",
              "        if (!dataTable) return;\n",
              "\n",
              "        const docLinkHtml = 'Like what you see? Visit the ' +\n",
              "          '<a target=\"_blank\" href=https://colab.research.google.com/notebooks/data_table.ipynb>data table notebook</a>'\n",
              "          + ' to learn more about interactive tables.';\n",
              "        element.innerHTML = '';\n",
              "        dataTable['output_type'] = 'display_data';\n",
              "        await google.colab.output.renderOutput(dataTable, element);\n",
              "        const docLink = document.createElement('div');\n",
              "        docLink.innerHTML = docLinkHtml;\n",
              "        element.appendChild(docLink);\n",
              "      }\n",
              "    </script>\n",
              "  </div>\n",
              "\n",
              "\n",
              "<div id=\"df-f1fab528-249c-4681-bdfb-524df24f6dac\">\n",
              "  <button class=\"colab-df-quickchart\" onclick=\"quickchart('df-f1fab528-249c-4681-bdfb-524df24f6dac')\"\n",
              "            title=\"Suggest charts\"\n",
              "            style=\"display:none;\">\n",
              "\n",
              "<svg xmlns=\"http://www.w3.org/2000/svg\" height=\"24px\"viewBox=\"0 0 24 24\"\n",
              "     width=\"24px\">\n",
              "    <g>\n",
              "        <path d=\"M19 3H5c-1.1 0-2 .9-2 2v14c0 1.1.9 2 2 2h14c1.1 0 2-.9 2-2V5c0-1.1-.9-2-2-2zM9 17H7v-7h2v7zm4 0h-2V7h2v10zm4 0h-2v-4h2v4z\"/>\n",
              "    </g>\n",
              "</svg>\n",
              "  </button>\n",
              "\n",
              "<style>\n",
              "  .colab-df-quickchart {\n",
              "      --bg-color: #E8F0FE;\n",
              "      --fill-color: #1967D2;\n",
              "      --hover-bg-color: #E2EBFA;\n",
              "      --hover-fill-color: #174EA6;\n",
              "      --disabled-fill-color: #AAA;\n",
              "      --disabled-bg-color: #DDD;\n",
              "  }\n",
              "\n",
              "  [theme=dark] .colab-df-quickchart {\n",
              "      --bg-color: #3B4455;\n",
              "      --fill-color: #D2E3FC;\n",
              "      --hover-bg-color: #434B5C;\n",
              "      --hover-fill-color: #FFFFFF;\n",
              "      --disabled-bg-color: #3B4455;\n",
              "      --disabled-fill-color: #666;\n",
              "  }\n",
              "\n",
              "  .colab-df-quickchart {\n",
              "    background-color: var(--bg-color);\n",
              "    border: none;\n",
              "    border-radius: 50%;\n",
              "    cursor: pointer;\n",
              "    display: none;\n",
              "    fill: var(--fill-color);\n",
              "    height: 32px;\n",
              "    padding: 0;\n",
              "    width: 32px;\n",
              "  }\n",
              "\n",
              "  .colab-df-quickchart:hover {\n",
              "    background-color: var(--hover-bg-color);\n",
              "    box-shadow: 0 1px 2px rgba(60, 64, 67, 0.3), 0 1px 3px 1px rgba(60, 64, 67, 0.15);\n",
              "    fill: var(--button-hover-fill-color);\n",
              "  }\n",
              "\n",
              "  .colab-df-quickchart-complete:disabled,\n",
              "  .colab-df-quickchart-complete:disabled:hover {\n",
              "    background-color: var(--disabled-bg-color);\n",
              "    fill: var(--disabled-fill-color);\n",
              "    box-shadow: none;\n",
              "  }\n",
              "\n",
              "  .colab-df-spinner {\n",
              "    border: 2px solid var(--fill-color);\n",
              "    border-color: transparent;\n",
              "    border-bottom-color: var(--fill-color);\n",
              "    animation:\n",
              "      spin 1s steps(1) infinite;\n",
              "  }\n",
              "\n",
              "  @keyframes spin {\n",
              "    0% {\n",
              "      border-color: transparent;\n",
              "      border-bottom-color: var(--fill-color);\n",
              "      border-left-color: var(--fill-color);\n",
              "    }\n",
              "    20% {\n",
              "      border-color: transparent;\n",
              "      border-left-color: var(--fill-color);\n",
              "      border-top-color: var(--fill-color);\n",
              "    }\n",
              "    30% {\n",
              "      border-color: transparent;\n",
              "      border-left-color: var(--fill-color);\n",
              "      border-top-color: var(--fill-color);\n",
              "      border-right-color: var(--fill-color);\n",
              "    }\n",
              "    40% {\n",
              "      border-color: transparent;\n",
              "      border-right-color: var(--fill-color);\n",
              "      border-top-color: var(--fill-color);\n",
              "    }\n",
              "    60% {\n",
              "      border-color: transparent;\n",
              "      border-right-color: var(--fill-color);\n",
              "    }\n",
              "    80% {\n",
              "      border-color: transparent;\n",
              "      border-right-color: var(--fill-color);\n",
              "      border-bottom-color: var(--fill-color);\n",
              "    }\n",
              "    90% {\n",
              "      border-color: transparent;\n",
              "      border-bottom-color: var(--fill-color);\n",
              "    }\n",
              "  }\n",
              "</style>\n",
              "\n",
              "  <script>\n",
              "    async function quickchart(key) {\n",
              "      const quickchartButtonEl =\n",
              "        document.querySelector('#' + key + ' button');\n",
              "      quickchartButtonEl.disabled = true;  // To prevent multiple clicks.\n",
              "      quickchartButtonEl.classList.add('colab-df-spinner');\n",
              "      try {\n",
              "        const charts = await google.colab.kernel.invokeFunction(\n",
              "            'suggestCharts', [key], {});\n",
              "      } catch (error) {\n",
              "        console.error('Error during call to suggestCharts:', error);\n",
              "      }\n",
              "      quickchartButtonEl.classList.remove('colab-df-spinner');\n",
              "      quickchartButtonEl.classList.add('colab-df-quickchart-complete');\n",
              "    }\n",
              "    (() => {\n",
              "      let quickchartButtonEl =\n",
              "        document.querySelector('#df-f1fab528-249c-4681-bdfb-524df24f6dac button');\n",
              "      quickchartButtonEl.style.display =\n",
              "        google.colab.kernel.accessAllowed ? 'block' : 'none';\n",
              "    })();\n",
              "  </script>\n",
              "</div>\n",
              "\n",
              "    </div>\n",
              "  </div>\n"
            ],
            "application/vnd.google.colaboratory.intrinsic+json": {
              "type": "dataframe",
              "variable_name": "df"
            }
          },
          "metadata": {},
          "execution_count": 57
        }
      ]
    },
    {
      "cell_type": "code",
      "source": [
        "df.shape"
      ],
      "metadata": {
        "colab": {
          "base_uri": "https://localhost:8080/"
        },
        "id": "iO1IIZR8PFgS",
        "outputId": "2d917bcd-7b3e-461f-ad3d-673dfef2b64b"
      },
      "execution_count": null,
      "outputs": [
        {
          "output_type": "execute_result",
          "data": {
            "text/plain": [
              "(20000, 39)"
            ]
          },
          "metadata": {},
          "execution_count": 58
        }
      ]
    }
  ],
  "metadata": {
    "kernelspec": {
      "display_name": "Python 3",
      "language": "python",
      "name": "python3"
    },
    "language_info": {
      "codemirror_mode": {
        "name": "ipython",
        "version": 3
      },
      "file_extension": ".py",
      "mimetype": "text/x-python",
      "name": "python",
      "nbconvert_exporter": "python",
      "pygments_lexer": "ipython3",
      "version": "3.11.6"
    },
    "colab": {
      "provenance": []
    }
  },
  "nbformat": 4,
  "nbformat_minor": 0
}